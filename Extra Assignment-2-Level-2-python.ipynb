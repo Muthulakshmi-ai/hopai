{
 "cells": [
  {
   "cell_type": "code",
   "execution_count": 2,
   "id": "0e75f0e9-ad26-4ecd-94e6-b66369a29a34",
   "metadata": {},
   "outputs": [
    {
     "name": "stdout",
     "output_type": "stream",
     "text": [
      "0\n",
      "1\n",
      "2\n",
      "3\n",
      "4\n",
      "5\n",
      "6\n",
      "7\n",
      "8\n",
      "9\n",
      "10\n",
      "11\n",
      "12\n",
      "13\n",
      "14\n",
      "15\n",
      "16\n",
      "17\n",
      "18\n",
      "19\n"
     ]
    }
   ],
   "source": [
    " # print 0 to 20 by using range\n",
    "for num in range(0,20):\n",
    "    print(num)"
   ]
  },
  {
   "cell_type": "code",
   "execution_count": 6,
   "id": "e4ec80fb-f3f0-4415-ae93-4610572c46a6",
   "metadata": {},
   "outputs": [
    {
     "name": "stdout",
     "output_type": "stream",
     "text": [
      "10 11 12 13 14 15 16 17 18 19 "
     ]
    }
   ],
   "source": [
    "# print range 10 to 20  \n",
    "#for num in range(10,20):\n",
    "    #print(num)\n",
    "\n",
    "# print range 10 to 20 >> priniting horizontally\n",
    "for num in range(10, 20):\n",
    "    print(num, end=\" \")"
   ]
  },
  {
   "cell_type": "code",
   "execution_count": 8,
   "id": "d2c20b97-aa06-497d-b5df-8cc48311cb8a",
   "metadata": {},
   "outputs": [
    {
     "name": "stdout",
     "output_type": "stream",
     "text": [
      "Number of item in the List2: \n",
      "7\n"
     ]
    }
   ],
   "source": [
    " # Print number of items in the list by using 'len'\n",
    "List2=[10, 20, 14, 55, 43, 87, 76]\n",
    "print(\"Number of item in the List2: \")\n",
    "print(len(List2))\n"
   ]
  },
  {
   "cell_type": "code",
   "execution_count": 10,
   "id": "9da9ddb3-f00e-456e-b279-2be0ab238291",
   "metadata": {},
   "outputs": [
    {
     "name": "stdout",
     "output_type": "stream",
     "text": [
      "A\n",
      "r\n",
      "t\n",
      "i\n",
      "f\n",
      "i\n",
      "c\n",
      "i\n",
      "a\n",
      "l\n",
      " \n",
      "I\n",
      "n\n",
      "t\n",
      "e\n",
      "l\n",
      "l\n",
      "i\n",
      "g\n",
      "e\n",
      "n\n",
      "c\n",
      "e\n"
     ]
    }
   ],
   "source": [
    "#print a word vertically\n",
    "word = \"Artificial Intelligence\"\n",
    "for char in word:\n",
    "    print(char)"
   ]
  },
  {
   "cell_type": "code",
   "execution_count": 12,
   "id": "b25910d5-6f00-43d6-9f7f-23e541a43e53",
   "metadata": {},
   "outputs": [
    {
     "name": "stdin",
     "output_type": "stream",
     "text": [
      "Enter your name Laks\n",
      "Enter your age 25\n",
      "Enter your profession SE\n"
     ]
    },
    {
     "name": "stdout",
     "output_type": "stream",
     "text": [
      "-Your Name- Laks\n",
      "-Your Age- 25\n",
      "-Your Profession- SE\n"
     ]
    }
   ],
   "source": [
    "name = input(\"Enter your name\")\n",
    "age = input(\"Enter your age\")\n",
    "profs = input(\"Enter your profession\")\n",
    "print(\"-Your Name-\", name)\n",
    "print(\"-Your Age-\", age)\n",
    "print(\"-Your Profession-\",profs)"
   ]
  },
  {
   "cell_type": "code",
   "execution_count": 14,
   "id": "3df4aab9-5b51-432e-9079-efe452575e19",
   "metadata": {},
   "outputs": [
    {
     "name": "stdout",
     "output_type": "stream",
     "text": [
      "(1, 'Welcome', 2, 'Hope')\n"
     ]
    }
   ],
   "source": [
    "# Creating a Tuple with Mixed Datatype\n",
    "tup = (1, 'Welcome', 2, 'Hope')\n",
    "print(tup)"
   ]
  },
  {
   "cell_type": "code",
   "execution_count": 16,
   "id": "6309bd6c-ff3b-42b2-bec8-1d52c9e33767",
   "metadata": {},
   "outputs": [
    {
     "name": "stdout",
     "output_type": "stream",
     "text": [
      "((0, 1, 2, 3), ('python', 'HOPE'))\n"
     ]
    }
   ],
   "source": [
    "# Creating a Tuple with nested tuples\n",
    "tup1 = (0, 1, 2, 3)\n",
    "tup2 = ('python', 'HOPE')\n",
    "tup3 = (tup1, tup2)\n",
    "print(tup3)"
   ]
  },
  {
   "cell_type": "code",
   "execution_count": 18,
   "id": "cd403b61-1f0e-4120-a514-4bbf3e70233f",
   "metadata": {},
   "outputs": [
    {
     "name": "stdout",
     "output_type": "stream",
     "text": [
      "19  is odd\n",
      "25  is odd\n",
      "1  is odd\n"
     ]
    }
   ],
   "source": [
    "# print Odd Numbers in the list\n",
    "a = [20,10,16,19,25,1,276,188]\n",
    "\n",
    "for i in a:\n",
    "    if i % 2 != 0:\n",
    "        print(i,\" is odd\")"
   ]
  },
  {
   "cell_type": "code",
   "execution_count": 20,
   "id": "cd40f730-5b7a-4227-ad51-e50c27d9a4c0",
   "metadata": {},
   "outputs": [
    {
     "name": "stdout",
     "output_type": "stream",
     "text": [
      "20  is even\n",
      "10  is even\n",
      "16  is even\n",
      "276  is even\n",
      "188  is even\n"
     ]
    }
   ],
   "source": [
    "# print Even Numbers in the list\n",
    "a = [20,10,16,19,25,1,276,188]\n",
    "\n",
    "for i in a:\n",
    "    if i % 2 == 0:\n",
    "        print(i,\" is even\")"
   ]
  },
  {
   "cell_type": "code",
   "execution_count": null,
   "id": "853891ec-9700-458a-895c-97e27079b323",
   "metadata": {},
   "outputs": [],
   "source": []
  }
 ],
 "metadata": {
  "kernelspec": {
   "display_name": "Python [conda env:base] *",
   "language": "python",
   "name": "conda-base-py"
  },
  "language_info": {
   "codemirror_mode": {
    "name": "ipython",
    "version": 3
   },
   "file_extension": ".py",
   "mimetype": "text/x-python",
   "name": "python",
   "nbconvert_exporter": "python",
   "pygments_lexer": "ipython3",
   "version": "3.12.7"
  }
 },
 "nbformat": 4,
 "nbformat_minor": 5
}
