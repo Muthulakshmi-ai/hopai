{
 "cells": [
  {
   "cell_type": "code",
   "execution_count": 2,
   "id": "3351f814-2259-4a8f-bf2c-f3f4f20b6a7b",
   "metadata": {},
   "outputs": [
    {
     "name": "stdout",
     "output_type": "stream",
     "text": [
      "HOPE AI\n"
     ]
    }
   ],
   "source": [
    "#print statement\n",
    "print(\"HOPE AI\")"
   ]
  },
  {
   "cell_type": "code",
   "execution_count": 6,
   "id": "efa412ea-5d6f-4d2b-9fbd-7463e5bbc990",
   "metadata": {},
   "outputs": [
    {
     "name": "stdin",
     "output_type": "stream",
     "text": [
      "Enter your institute name? :  HOPE AI\n"
     ]
    },
    {
     "data": {
      "text/plain": [
       "'HOPE AI'"
      ]
     },
     "execution_count": 6,
     "metadata": {},
     "output_type": "execute_result"
    }
   ],
   "source": [
    "#Buy Input\n",
    "input(\"Enter your institute name? : \") "
   ]
  },
  {
   "cell_type": "code",
   "execution_count": 12,
   "id": "de6bf31b-cd16-48f4-ac05-864619d14d9f",
   "metadata": {},
   "outputs": [
    {
     "name": "stdin",
     "output_type": "stream",
     "text": [
      "Enter your name:  Laks\n",
      "Enter your age:  20\n",
      "Enter your school name:  ACCET\n",
      "Enter your drgree:  BE(EEE)\n"
     ]
    },
    {
     "data": {
      "text/plain": [
       "'BE(EEE)'"
      ]
     },
     "execution_count": 12,
     "metadata": {},
     "output_type": "execute_result"
    }
   ],
   "source": [
    "#Buy inputs\n",
    "input(\"Enter your name: \")\n",
    "input(\"Enter your age: \")\n",
    "input(\"Enter your school name: \")\n",
    "input(\"Enter your drgree: \")"
   ]
  },
  {
   "cell_type": "code",
   "execution_count": 16,
   "id": "20ed05e1-5de5-41d3-857a-fcb6904d119e",
   "metadata": {},
   "outputs": [
    {
     "name": "stdin",
     "output_type": "stream",
     "text": [
      "Enter the value of a 43\n",
      "Enter the value of b 34\n"
     ]
    },
    {
     "name": "stdout",
     "output_type": "stream",
     "text": [
      "a=  43\n",
      "b=  34\n",
      "add= 77\n"
     ]
    }
   ],
   "source": [
    "#Addition\n",
    "a=int(input(\"Enter the value of a\"))\n",
    "b=int(input(\"Enter the value of b\"))\n",
    "add=a+b\n",
    "print(\"a= \",a)\n",
    "print(\"b= \", b)\n",
    "print(\"add=\", add)"
   ]
  },
  {
   "cell_type": "code",
   "execution_count": 18,
   "id": "a27a83c4-e108-4513-a37e-58aef05fb80f",
   "metadata": {},
   "outputs": [
    {
     "name": "stdin",
     "output_type": "stream",
     "text": [
      "Enter the value of a 43\n",
      "Enter the value of b 34\n"
     ]
    },
    {
     "name": "stdout",
     "output_type": "stream",
     "text": [
      "a=  43\n",
      "b=  34\n",
      "Sub= 9\n"
     ]
    }
   ],
   "source": [
    "#Subtraction\n",
    "a=int(input(\"Enter the value of a\"))\n",
    "b=int(input(\"Enter the value of b\"))\n",
    "Sub=a-b\n",
    "print(\"a= \",a)\n",
    "print(\"b= \", b)\n",
    "print(\"Sub=\", Sub)"
   ]
  },
  {
   "cell_type": "code",
   "execution_count": 20,
   "id": "1ee9c19e-260e-41db-92c9-78d0cfd7422a",
   "metadata": {},
   "outputs": [
    {
     "name": "stdin",
     "output_type": "stream",
     "text": [
      "Enter the value of a 63\n",
      "Enter the value of b 97\n"
     ]
    },
    {
     "name": "stdout",
     "output_type": "stream",
     "text": [
      "a=  63\n",
      "b=  97\n",
      "Mul= 6111\n"
     ]
    }
   ],
   "source": [
    "#Multiplication\n",
    "a=int(input(\"Enter the value of a\"))\n",
    "b=int(input(\"Enter the value of b\"))\n",
    "Mul=a*b\n",
    "print(\"a= \",a)\n",
    "print(\"b= \", b)\n",
    "print(\"Mul=\", Mul)\n"
   ]
  },
  {
   "cell_type": "code",
   "execution_count": 22,
   "id": "4dfe4046-1ca6-474f-b8a8-192f96b0a4b8",
   "metadata": {},
   "outputs": [
    {
     "name": "stdin",
     "output_type": "stream",
     "text": [
      "Enter the value of a 76\n",
      "Enter the value of b 31\n"
     ]
    },
    {
     "name": "stdout",
     "output_type": "stream",
     "text": [
      "a=  76\n",
      "b=  31\n",
      "Float Div= 2.4516129032258065\n"
     ]
    }
   ],
   "source": [
    "#Division\n",
    "a=int(input(\"Enter the value of a\"))\n",
    "b=int(input(\"Enter the value of b\"))\n",
    "fDiv=a/b\n",
    "print(\"a= \",a)\n",
    "print(\"b= \", b)\n",
    "print(\"Float Div=\", fDiv)"
   ]
  },
  {
   "cell_type": "code",
   "execution_count": 24,
   "id": "bd72f8df-7877-43dc-9b84-959c92eff002",
   "metadata": {},
   "outputs": [
    {
     "name": "stdin",
     "output_type": "stream",
     "text": [
      "Enter the value of a 76\n",
      "Enter the value of b 31\n"
     ]
    },
    {
     "name": "stdout",
     "output_type": "stream",
     "text": [
      "a=  76\n",
      "b=  31\n",
      "Floor Div= 2\n"
     ]
    }
   ],
   "source": [
    "#Floor Division - integer\n",
    "a=int(input(\"Enter the value of a\"))\n",
    "b=int(input(\"Enter the value of b\"))\n",
    "floorDiv=a//b\n",
    "print(\"a= \",a)\n",
    "print(\"b= \", b)\n",
    "print(\"Floor Div=\", floorDiv)"
   ]
  },
  {
   "cell_type": "code",
   "execution_count": 26,
   "id": "1d5de516-ff9e-4d42-ae4d-c6320976b8ea",
   "metadata": {},
   "outputs": [
    {
     "name": "stdin",
     "output_type": "stream",
     "text": [
      "Enter the value of a 76\n",
      "Enter the value of b 31\n"
     ]
    },
    {
     "name": "stdout",
     "output_type": "stream",
     "text": [
      "a=  76\n",
      "b=  31\n",
      "Modulo= 14\n"
     ]
    }
   ],
   "source": [
    "##Modulo - % - Reminder \n",
    "a=int(input(\"Enter the value of a\"))\n",
    "b=int(input(\"Enter the value of b\"))\n",
    "Modulo=a%b\n",
    "print(\"a= \",a)\n",
    "print(\"b= \", b)\n",
    "print(\"Modulo=\", Modulo)"
   ]
  },
  {
   "cell_type": "code",
   "execution_count": 28,
   "id": "e0bb72ed-431f-4fa1-ac23-d82a99e5491a",
   "metadata": {},
   "outputs": [
    {
     "name": "stdin",
     "output_type": "stream",
     "text": [
      "Enter the value of a 4\n",
      "Enter the value of b 4\n"
     ]
    },
    {
     "name": "stdout",
     "output_type": "stream",
     "text": [
      "a=  4\n",
      "b=  4\n",
      "Power= 256\n"
     ]
    }
   ],
   "source": [
    "#Power\n",
    "a=int(input(\"Enter the value of a\"))\n",
    "b=int(input(\"Enter the value of b\"))\n",
    "Power=pow(a,b)\n",
    "print(\"a= \",a)\n",
    "print(\"b= \", b)\n",
    "print(\"Power=\", Power)"
   ]
  },
  {
   "cell_type": "code",
   "execution_count": null,
   "id": "0f9a131b-e906-4c76-949e-a77e3cb28df0",
   "metadata": {},
   "outputs": [],
   "source": []
  }
 ],
 "metadata": {
  "kernelspec": {
   "display_name": "Python [conda env:base] *",
   "language": "python",
   "name": "conda-base-py"
  },
  "language_info": {
   "codemirror_mode": {
    "name": "ipython",
    "version": 3
   },
   "file_extension": ".py",
   "mimetype": "text/x-python",
   "name": "python",
   "nbconvert_exporter": "python",
   "pygments_lexer": "ipython3",
   "version": "3.12.7"
  }
 },
 "nbformat": 4,
 "nbformat_minor": 5
}
