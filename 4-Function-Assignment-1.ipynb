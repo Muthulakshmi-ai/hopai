{
 "cells": [
  {
   "cell_type": "code",
   "execution_count": null,
   "id": "36ed917d-457b-4e7c-8e17-034fb9acec07",
   "metadata": {},
   "outputs": [],
   "source": [
    "# Create a class and function, and list out the items in the list"
   ]
  },
  {
   "cell_type": "code",
   "execution_count": 53,
   "id": "7c2bd11d-7c2a-4fd0-8bd0-08af3673e14e",
   "metadata": {},
   "outputs": [],
   "source": [
    "#create function Subfields()\n",
    "class SubfieldsInAI():\n",
    "    def Subfields():\n",
    "            print(\"Sub-fields in AI are:\")\n",
    "            print(\"Machine Learning\")\n",
    "            print(\"Neural Networks\")\n",
    "            print(\"Vision\")\n",
    "            print(\"Robotics\")\n",
    "            print(\"Speech Processing\")\n",
    "            print(\"Natural Language Processing\")"
   ]
  },
  {
   "cell_type": "code",
   "execution_count": 4,
   "id": "10fe488c-cbd9-4621-8f9c-6f1ebd0d3c9a",
   "metadata": {},
   "outputs": [
    {
     "name": "stdout",
     "output_type": "stream",
     "text": [
      "Sub-fields in AI are:\n",
      "Machine Learning\n",
      "Neural Networks\n",
      "Vision\n",
      "Robotics\n",
      "Speech Processing\n",
      "Natural Language Processing\n"
     ]
    }
   ],
   "source": [
    "Subfields()"
   ]
  },
  {
   "cell_type": "code",
   "execution_count": 55,
   "id": "cc227d8d-2b17-4348-849c-ad24652207cd",
   "metadata": {},
   "outputs": [
    {
     "name": "stdout",
     "output_type": "stream",
     "text": [
      "Sub-fields in AI are:\n",
      "Machine Learning\n",
      "Neural Networks\n",
      "Vision\n",
      "Robotics\n",
      "Speech Processing\n",
      "Natural Language Processing\n"
     ]
    }
   ],
   "source": [
    "SubfieldsInAI.Subfields()"
   ]
  },
  {
   "cell_type": "code",
   "execution_count": 61,
   "id": "cdaa9cc6-ac79-455e-a61d-394498fb229a",
   "metadata": {},
   "outputs": [],
   "source": [
    "# Create a function that checks whether the given number is Odd or Even\n",
    "class OddEven():\n",
    "    def oddEven():\n",
    "        num=int(input(\"Enter a number\"))\n",
    "        if(num%2==0):\n",
    "            print(num,\" is Even Number\")\n",
    "            #message=num, \" is Even Number\"\n",
    "        else:\n",
    "            print(num,\" is Odd Number\")\n",
    "            #message=num, \" is Odd Number\"\n",
    "        #return message"
   ]
  },
  {
   "cell_type": "code",
   "execution_count": 22,
   "id": "0ce54bfa-bd3a-40cd-a0d1-c40d9ea22528",
   "metadata": {},
   "outputs": [
    {
     "name": "stdin",
     "output_type": "stream",
     "text": [
      "Enter a number 52452\n"
     ]
    },
    {
     "name": "stdout",
     "output_type": "stream",
     "text": [
      "52452  is Even Number\n"
     ]
    }
   ],
   "source": [
    "oddEven()"
   ]
  },
  {
   "cell_type": "code",
   "execution_count": 63,
   "id": "44f4a7aa-fde5-41e0-aea4-b62fcc4b6646",
   "metadata": {},
   "outputs": [
    {
     "name": "stdin",
     "output_type": "stream",
     "text": [
      "Enter a number 52452\n"
     ]
    },
    {
     "name": "stdout",
     "output_type": "stream",
     "text": [
      "52452  is Even Number\n"
     ]
    }
   ],
   "source": [
    "OddEven.oddEven()"
   ]
  },
  {
   "cell_type": "code",
   "execution_count": 71,
   "id": "79b19b1a-5883-48bc-b28b-7e01e808a8d6",
   "metadata": {},
   "outputs": [],
   "source": [
    " # Create a function that tells elegibility of marriage for male and female according to their age limit like 21 for male and 18 for female\n",
    "class ElegiblityForMarriage():\n",
    "    def Elegible():\n",
    "            gender = input(\"Your Gender:\")\n",
    "            age = int(input(\"Your Age:\"))\n",
    "            if(gender == 'Male'):\n",
    "                if(age >=21 ):\n",
    "                    print(\"ELIGIBLE\")\n",
    "                else:\n",
    "                    print(\"NOT ELIGIBLE\")\n",
    "            elif(gender == 'Female'):\n",
    "                if(age >=18 ):\n",
    "                    print(\"ELIGIBLE\")\n",
    "                else:\n",
    "                    print(\"NOT ELIGIBLE\")\n",
    "                \n"
   ]
  },
  {
   "cell_type": "code",
   "execution_count": 75,
   "id": "957ebcce-dc0f-4d7a-adca-aaa1e0b49085",
   "metadata": {},
   "outputs": [
    {
     "name": "stdin",
     "output_type": "stream",
     "text": [
      "Your Gender: Male\n",
      "Your Age: 20\n"
     ]
    },
    {
     "name": "stdout",
     "output_type": "stream",
     "text": [
      "NOT ELIGIBLE\n"
     ]
    }
   ],
   "source": [
    "ElegiblityForMarriage.Elegible()"
   ]
  },
  {
   "cell_type": "code",
   "execution_count": 77,
   "id": "727898a9-d817-4c31-b939-50c3c8f0197c",
   "metadata": {},
   "outputs": [],
   "source": [
    "# calculate the percentage of your 10th mark\n",
    "class FindPercent():\n",
    "    def percentage():\n",
    "            Subject1= int(input(\"Subject1=\"))\n",
    "            Subject2= int(input(\"Subject2=\"))\n",
    "            Subject3= int(input(\"Subject3=\"))\n",
    "            Subject4= int(input(\"Subject4=\"))\n",
    "            Subject5= int(input(\"Subject5=\"))\n",
    "            Total = Subject1+Subject2+Subject3+Subject4+Subject5\n",
    "            Percentage = (Total/500)*100\n",
    "            print(\"Total : \",Subject1+Subject2+Subject3+Subject4+Subject5)\n",
    "            print(\"Percentage : \",Percentage) "
   ]
  },
  {
   "cell_type": "code",
   "execution_count": 38,
   "id": "314bc5c9-b7db-4221-826a-0606736c71f2",
   "metadata": {},
   "outputs": [
    {
     "name": "stdin",
     "output_type": "stream",
     "text": [
      "Subject1= 98\n",
      "Subject2= 87\n",
      "Subject3= 95\n",
      "Subject4= 95\n",
      "Subject5= 93\n"
     ]
    },
    {
     "name": "stdout",
     "output_type": "stream",
     "text": [
      "Total :  468\n",
      "Percentage :  93.60000000000001\n"
     ]
    }
   ],
   "source": [
    "percentage()"
   ]
  },
  {
   "cell_type": "code",
   "execution_count": 79,
   "id": "e9187e7a-6e88-48bf-80f0-b828ebfc01c5",
   "metadata": {},
   "outputs": [
    {
     "name": "stdin",
     "output_type": "stream",
     "text": [
      "Subject1= 98\n",
      "Subject2= 87\n",
      "Subject3= 95\n",
      "Subject4= 95\n",
      "Subject5= 93\n"
     ]
    },
    {
     "name": "stdout",
     "output_type": "stream",
     "text": [
      "Total :  468\n",
      "Percentage :  93.60000000000001\n"
     ]
    }
   ],
   "source": [
    "FindPercent.percentage()"
   ]
  },
  {
   "cell_type": "code",
   "execution_count": 81,
   "id": "df015327-c3d2-4da0-a8fe-a300651ecbb5",
   "metadata": {},
   "outputs": [],
   "source": [
    "class triangle():\n",
    "    def triangle():\n",
    "            Height = int(input(\"Height:\"))\n",
    "            Breadth = int(input(\"Breadth:\"))\n",
    "            AreaTriangle = (Height*Breadth)/2\n",
    "            print(\"Area formula: (Height*Breadth)/2\")\n",
    "            print(\"Area of Triangle:\",AreaTriangle)\n",
    "            Height1 = int(input(\"Height1:\"))\n",
    "            Height2 = int(input(\"Height2:\"))\n",
    "            Breadth = int(input(\"Breadth:\"))\n",
    "            PerimeterTriangle = Height1+Height2+Breadth\n",
    "            print(\"Perimeter formula: Height1+Height2+Breadth\")\n",
    "            print(\"Perimeter of Triangle:\",PerimeterTriangle)"
   ]
  },
  {
   "cell_type": "code",
   "execution_count": 42,
   "id": "b76c7e0a-7a0f-4c28-8616-7d1977c4e39e",
   "metadata": {},
   "outputs": [
    {
     "name": "stdin",
     "output_type": "stream",
     "text": [
      "Height: 32\n",
      "Breadth: 32\n"
     ]
    },
    {
     "name": "stdout",
     "output_type": "stream",
     "text": [
      "Area formula: (Height*Breadth)/2\n",
      "Area of Triangle: 512.0\n"
     ]
    },
    {
     "name": "stdin",
     "output_type": "stream",
     "text": [
      "Height1: 2\n",
      "Height2: 4\n",
      "Breadth: 4\n"
     ]
    },
    {
     "name": "stdout",
     "output_type": "stream",
     "text": [
      "Perimeter formula: Height1+Height2+Breadth\n",
      "Perimeter of Triangle: 10\n"
     ]
    }
   ],
   "source": [
    "triangle()\n"
   ]
  },
  {
   "cell_type": "code",
   "execution_count": null,
   "id": "8a2cfe7c-5760-4eed-80d4-fbd5a0edddc2",
   "metadata": {},
   "outputs": [],
   "source": []
  },
  {
   "cell_type": "code",
   "execution_count": 83,
   "id": "cbeab5f8-62ee-4f8c-a45b-b941c47deb89",
   "metadata": {},
   "outputs": [
    {
     "name": "stdin",
     "output_type": "stream",
     "text": [
      "Height: 32\n",
      "Breadth: 34\n"
     ]
    },
    {
     "name": "stdout",
     "output_type": "stream",
     "text": [
      "Area formula: (Height*Breadth)/2\n",
      "Area of Triangle: 544.0\n"
     ]
    },
    {
     "name": "stdin",
     "output_type": "stream",
     "text": [
      "Height1: 2\n",
      "Height2: 4\n",
      "Breadth: 4\n"
     ]
    },
    {
     "name": "stdout",
     "output_type": "stream",
     "text": [
      "Perimeter formula: Height1+Height2+Breadth\n",
      "Perimeter of Triangle: 10\n"
     ]
    }
   ],
   "source": [
    "triangle.triangle()"
   ]
  },
  {
   "cell_type": "code",
   "execution_count": null,
   "id": "539bccd6-044b-45c8-9523-a1dcb00db777",
   "metadata": {},
   "outputs": [],
   "source": []
  }
 ],
 "metadata": {
  "kernelspec": {
   "display_name": "Python [conda env:base] *",
   "language": "python",
   "name": "conda-base-py"
  },
  "language_info": {
   "codemirror_mode": {
    "name": "ipython",
    "version": 3
   },
   "file_extension": ".py",
   "mimetype": "text/x-python",
   "name": "python",
   "nbconvert_exporter": "python",
   "pygments_lexer": "ipython3",
   "version": "3.12.7"
  }
 },
 "nbformat": 4,
 "nbformat_minor": 5
}
